{
 "cells": [
  {
   "cell_type": "code",
   "execution_count": 1,
   "id": "super-artwork",
   "metadata": {},
   "outputs": [],
   "source": [
    "import numpy as np\n",
    "import matplotlib.pyplot as plt\n",
    "# import warnings\n",
    "# warnings.filterwarnings('ignore')"
   ]
  },
  {
   "cell_type": "code",
   "execution_count": 2,
   "id": "stuffed-orlando",
   "metadata": {},
   "outputs": [],
   "source": [
    "# Entropy function\n",
    "def h(p):\n",
    "    if p == 0 or p == 1: return 0\n",
    "    return -p*np.log2(p)-(1-p)*np.log2(1-p)\n",
    "\n",
    "ITERS = 100\n",
    "# Inverse entropy h^{-1}(y)\n",
    "def invh(y):\n",
    "    left = 0\n",
    "    right = 0.5\n",
    "    for i in range(ITERS):\n",
    "        mid = 0.5*(left+right)\n",
    "        if h(mid) > y: right = mid\n",
    "        else: left = mid\n",
    "    return mid"
   ]
  },
  {
   "cell_type": "code",
   "execution_count": 3,
   "id": "signed-louisville",
   "metadata": {},
   "outputs": [],
   "source": [
    "# Mrs Gerber function: m(alpha, y) = h( alpha * h^-1(y) )\n",
    "def m(alpha, y):\n",
    "    if y < 0: raise Exception('Mrs gerber negative value')\n",
    "    q = invh(y)\n",
    "    qprim = q*(1-alpha)+alpha*(1-q)\n",
    "    return h(qprim)"
   ]
  },
  {
   "cell_type": "code",
   "execution_count": 4,
   "id": "drawn-snowboard",
   "metadata": {},
   "outputs": [],
   "source": [
    "# Returns I(X;E)-I(X;Y) for scalar X~Ber(r), Y=BSC_p(X), E=BEC_q(X)\n",
    "def I_diff(q, p, r):\n",
    "    conv = (1-p)*r + p*(1-r)\n",
    "    return (1-q)*h(r) - h(conv) + h(p)"
   ]
  },
  {
   "cell_type": "code",
   "execution_count": 5,
   "id": "intensive-bahamas",
   "metadata": {},
   "outputs": [],
   "source": [
    "## compute Eta for a given alpha and q\n",
    "def ternary_search(alpha,q,left, right, absolute_precision):\n",
    "    while abs(right - left) >= absolute_precision:\n",
    "        left_third = left + (right - left)/3\n",
    "        right_third = right - (right - left)/3\n",
    "\n",
    "        if I_diff(q,alpha,left_third) < I_diff(q,alpha,right_third):\n",
    "            left = left_third\n",
    "        else:\n",
    "            right = right_third\n",
    "            \n",
    "    return I_diff(q,alpha,(left + right)/2)\n",
    "def get_eta_more_capable(alpha, q):\n",
    "    return ternary_search(alpha,q,0, 1,1e-11) "
   ]
  },
  {
   "cell_type": "code",
   "execution_count": 6,
   "id": "intermediate-announcement",
   "metadata": {},
   "outputs": [],
   "source": [
    "### compute the espectation of h(q^{*G}) for G~Geom(1-gamma)\n",
    "def estimate_h_gamma(q, gamma, tolerance):\n",
    "    g = 1\n",
    "    total_mass = 0\n",
    "    res = 0\n",
    "    while total_mass < 1-tolerance:\n",
    "        p_g = (1-gamma) * gamma**(g-1)\n",
    "        res += p_g * h( 0.5*(1-(1-2*q)**g) )\n",
    "        total_mass += p_g\n",
    "        g += 1\n",
    "    return res"
   ]
  },
  {
   "cell_type": "code",
   "execution_count": 7,
   "id": "continued-armstrong",
   "metadata": {},
   "outputs": [],
   "source": [
    "#### Our lower bound for any gamma(not the max)\n",
    "def Lower_bound(alpha,q,GAMMA):\n",
    "    H_gamma = estimate_h_gamma(q, GAMMA, 1e-11)\n",
    "    eta=get_eta_more_capable(alpha,GAMMA)\n",
    "    return (1-GAMMA)*H_gamma+h(alpha)-eta"
   ]
  },
  {
   "cell_type": "code",
   "execution_count": 8,
   "id": "unsigned-montana",
   "metadata": {},
   "outputs": [],
   "source": [
    "### getting the best gamma\n",
    "def ternary_search2(alpha,q,left, right, absolute_precision):\n",
    "    while abs(right - left) >= absolute_precision:\n",
    "        left_third = left + (right - left)/3\n",
    "        right_third = right - (right - left)/3\n",
    "\n",
    "        if Lower_bound(alpha,q,left_third) < Lower_bound(alpha,q,right_third):\n",
    "            left = left_third\n",
    "        else:\n",
    "            right = right_third\n",
    "            \n",
    "    return (left + right)/2\n",
    "def gamma_max(alpha, q):\n",
    "    return ternary_search2(alpha,q,0, 1,1e-11)"
   ]
  },
  {
   "cell_type": "code",
   "execution_count": 9,
   "id": "promotional-choice",
   "metadata": {},
   "outputs": [],
   "source": [
    "## Our Lower bound (i.e with the best gamma)\n",
    "def New_Lower_bound(alpha,q):\n",
    "    GAMMA=gamma_max(alpha,q)\n",
    "    H_gamma = estimate_h_gamma(q, GAMMA, 1e-11)\n",
    "    eta=get_eta_more_capable(alpha,GAMMA)\n",
    "    res=(1-GAMMA)*H_gamma+h(alpha)-eta\n",
    "#     print(\"Lower bound in Theorem 1.4=\", res)\n",
    "    return res"
   ]
  },
  {
   "cell_type": "code",
   "execution_count": 10,
   "id": "comic-auditor",
   "metadata": {},
   "outputs": [],
   "source": [
    "## Lower bound from Ordentlich\n",
    "def Ord_Lower_bound(alpha,q):\n",
    "    GAMMA = 1 - (1-2*alpha)**2\n",
    "    H_gamma = estimate_h_gamma(q, GAMMA, 1e-11)\n",
    "    res=m(alpha, H_gamma)\n",
    "#     print(\"Lower bound from Ordentlich=\",res)\n",
    "    return res"
   ]
  },
  {
   "cell_type": "code",
   "execution_count": 11,
   "id": "square-cookie",
   "metadata": {},
   "outputs": [
    {
     "name": "stdout",
     "output_type": "stream",
     "text": [
      "okay with alpha= 0.01020408163265306\n",
      "okay with alpha= 0.02040816326530612\n",
      "okay with alpha= 0.030612244897959183\n",
      "okay with alpha= 0.04081632653061224\n",
      "okay with alpha= 0.0510204081632653\n",
      "okay with alpha= 0.061224489795918366\n",
      "okay with alpha= 0.07142857142857142\n",
      "okay with alpha= 0.08163265306122448\n",
      "okay with alpha= 0.09183673469387754\n",
      "okay with alpha= 0.1020408163265306\n",
      "okay with alpha= 0.11224489795918366\n",
      "okay with alpha= 0.12244897959183673\n",
      "okay with alpha= 0.13265306122448978\n",
      "okay with alpha= 0.14285714285714285\n",
      "okay with alpha= 0.1530612244897959\n",
      "okay with alpha= 0.16326530612244897\n",
      "okay with alpha= 0.17346938775510204\n",
      "okay with alpha= 0.18367346938775508\n",
      "okay with alpha= 0.19387755102040816\n",
      "okay with alpha= 0.2040816326530612\n",
      "okay with alpha= 0.21428571428571427\n",
      "okay with alpha= 0.22448979591836732\n",
      "okay with alpha= 0.2346938775510204\n",
      "okay with alpha= 0.24489795918367346\n",
      "okay with alpha= 0.25510204081632654\n",
      "okay with alpha= 0.26530612244897955\n",
      "okay with alpha= 0.2755102040816326\n",
      "okay with alpha= 0.2857142857142857\n",
      "okay with alpha= 0.29591836734693877\n",
      "okay with alpha= 0.3061224489795918\n",
      "okay with alpha= 0.31632653061224486\n",
      "okay with alpha= 0.32653061224489793\n",
      "okay with alpha= 0.336734693877551\n",
      "okay with alpha= 0.3469387755102041\n",
      "okay with alpha= 0.3571428571428571\n",
      "okay with alpha= 0.36734693877551017\n",
      "okay with alpha= 0.37755102040816324\n",
      "okay with alpha= 0.3877551020408163\n",
      "okay with alpha= 0.39795918367346933\n",
      "okay with alpha= 0.4081632653061224\n",
      "okay with alpha= 0.4183673469387755\n",
      "okay with alpha= 0.42857142857142855\n",
      "okay with alpha= 0.4387755102040816\n",
      "okay with alpha= 0.44897959183673464\n",
      "okay with alpha= 0.4591836734693877\n",
      "okay with alpha= 0.4693877551020408\n",
      "okay with alpha= 0.47959183673469385\n",
      "Not Ok with alpha=0.490 and q=0.490\n",
      "Lower bound in Theorem 1.4= 0.9999999999478547\n",
      "Lower bound from Ordentlich= 0.9999999999478548\n",
      "\n",
      "\n",
      "okay with alpha= 0.4897959183673469\n"
     ]
    }
   ],
   "source": [
    "for alpha in np.linspace(0,0.5,50)[1:-1]:\n",
    "    for q in np.linspace(0,0.5,50)[1:-1]:\n",
    "        NLB=New_Lower_bound(alpha,q)\n",
    "        OLB=Ord_Lower_bound(alpha,q)\n",
    "        if NLB<OLB:\n",
    "            print(\"Not Ok with alpha=%.3lf and q=%.3lf\" % (alpha,q))\n",
    "            print(\"Lower bound in Theorem 1.4=\", NLB)\n",
    "            print(\"Lower bound from Ordentlich=\", OLB)\n",
    "            print(\"\\n\")\n",
    "    print(\"okay with alpha=\",alpha)"
   ]
  },
  {
   "cell_type": "code",
   "execution_count": 12,
   "id": "brown-interpretation",
   "metadata": {},
   "outputs": [
    {
     "data": {
      "text/plain": [
       "array([0.01020408, 0.02040816, 0.03061224, 0.04081633, 0.05102041,\n",
       "       0.06122449, 0.07142857, 0.08163265, 0.09183673, 0.10204082,\n",
       "       0.1122449 , 0.12244898, 0.13265306, 0.14285714, 0.15306122,\n",
       "       0.16326531, 0.17346939, 0.18367347, 0.19387755, 0.20408163,\n",
       "       0.21428571, 0.2244898 , 0.23469388, 0.24489796, 0.25510204,\n",
       "       0.26530612, 0.2755102 , 0.28571429, 0.29591837, 0.30612245,\n",
       "       0.31632653, 0.32653061, 0.33673469, 0.34693878, 0.35714286,\n",
       "       0.36734694, 0.37755102, 0.3877551 , 0.39795918, 0.40816327,\n",
       "       0.41836735, 0.42857143, 0.43877551, 0.44897959, 0.45918367,\n",
       "       0.46938776, 0.47959184, 0.48979592])"
      ]
     },
     "execution_count": 12,
     "metadata": {},
     "output_type": "execute_result"
    }
   ],
   "source": [
    "np.linspace(0,0.5,50)[1:-1]"
   ]
  },
  {
   "cell_type": "code",
   "execution_count": 13,
   "id": "oriental-mobile",
   "metadata": {},
   "outputs": [
    {
     "data": {
      "image/png": "[encoded data removed]",
      "text/plain": [
       "<Figure size 1008x576 with 1 Axes>"
      ]
     },
     "metadata": {
      "needs_background": "light"
     },
     "output_type": "display_data"
    }
   ],
   "source": [
    "#### Bound from Ordentlich (approx_...) vs our bound (best_...) for q=0.11 and alpha varying\n",
    "Q=0.11\n",
    "Approx_solution1=[]\n",
    "Best_bound1=[]\n",
    "alpha=np.linspace(2**(-100),0.5-2**(-5),50)\n",
    "for ALPHA in alpha:\n",
    "    GAMMA = 1 - (1-2*ALPHA)**2\n",
    "    H_gamma = estimate_h_gamma(Q, GAMMA, 1e-8)\n",
    "#     print('H_gamma = %lf' % H_gamma)\n",
    "    approx_solution = m(ALPHA, H_gamma)\n",
    "    Approx_solution1.append(approx_solution)\n",
    "\n",
    "    gamma=gamma_max(ALPHA,Q)\n",
    "    eta = get_eta_more_capable(ALPHA, gamma)\n",
    "    H_gamma = estimate_h_gamma(Q, gamma, 1e-8)\n",
    "    best_bound=(1-gamma)*H_gamma + h(ALPHA) - eta\n",
    "    Best_bound1.append(best_bound)\n",
    "plt.figure(figsize=(14,8))\n",
    "plt.plot(alpha,Approx_solution1, label=\"approx_solution\")\n",
    "plt.plot(alpha,Best_bound1, label=\"best_boumd\")\n",
    "# plt.plot(alpha,MGL,label=\"MGL\")\n",
    "plt.legend();"
   ]
  },
  {
   "cell_type": "code",
   "execution_count": 14,
   "id": "early-athletics",
   "metadata": {},
   "outputs": [
    {
     "data": {
      "image/png": "[encoded data removed]",
      "text/plain": [
       "<Figure size 1008x576 with 1 Axes>"
      ]
     },
     "metadata": {
      "needs_background": "light"
     },
     "output_type": "display_data"
    }
   ],
   "source": [
    "#### Bound from Ordentlich (approx_...) vs our bound (best_...) for alpha=0.11 and q varying\n",
    "ALPHA=0.11\n",
    "Approx_solution2=[]\n",
    "Best_bound2=[]\n",
    "Qlist=np.linspace(2**(-20),0.5-2**(-5),50)\n",
    "for Q in Qlist:\n",
    "    GAMMA = 1 - (1-2*ALPHA)**2\n",
    "#     print('gamma = %lf' % GAMMA)\n",
    "    H_gamma = estimate_h_gamma(Q, GAMMA, 1e-10)\n",
    "#     print('H_gamma', H_gamma)\n",
    "#     print('H_gamma = %lf' % H_gamma)\n",
    "    approx_solution = m(ALPHA, H_gamma)\n",
    "    Approx_solution2.append(approx_solution)\n",
    "    GAMMA=gamma_max(ALPHA,Q)\n",
    "    H_gamma = estimate_h_gamma(Q, GAMMA, 1e-10)\n",
    "    eta = get_eta_more_capable(ALPHA, GAMMA)\n",
    "    best_bound =(1-GAMMA)*H_gamma + h(ALPHA) - eta\n",
    "    Best_bound2.append(best_bound)\n",
    "plt.figure(figsize=(14,8))\n",
    "plt.plot(Qlist,Approx_solution2,label=\"approx_solution\")\n",
    "plt.plot(Qlist,Best_bound2, label=\"best_boumd\")\n",
    "plt.legend();"
   ]
  },
  {
   "cell_type": "code",
   "execution_count": 22,
   "id": "adolescent-straight",
   "metadata": {},
   "outputs": [
    {
     "data": {
      "image/png": "[encoded data removed]",
      "text/plain": [
       "<Figure size 1080x360 with 1 Axes>"
      ]
     },
     "metadata": {
      "needs_background": "light"
     },
     "output_type": "display_data"
    }
   ],
   "source": [
    "## with lengend\n",
    "plt.figure(figsize=(15,5))\n",
    "# plt.subplot(1,2,1)\n",
    "# plt.plot(alpha,Best_bound1, label=\"Theorem 1.4\",linewidth=2)\n",
    "# plt.plot(alpha,Approx_solution1,label=\"[Ord]\",linewidth=2)\n",
    "# plt.xlabel(r\"$\\alpha$\")\n",
    "# plt.ylabel(r\"$\\overline{H}(Y)$\")\n",
    "# plt.grid()\n",
    "# plt.legend();\n",
    "plt.subplot(1,2,2)\n",
    "plt.plot(Qlist,Best_bound2, label=\"Theorem 1.4\",linewidth=2)\n",
    "plt.plot(Qlist,Approx_solution2, label=\"[Ord]\",linewidth=2)\n",
    "plt.xlabel(r\"$q$\")\n",
    "plt.ylabel(r\"$\\overline{H}(Y)$\")\n",
    "plt.grid()\n",
    "plt.legend();"
   ]
  },
  {
   "cell_type": "code",
   "execution_count": 16,
   "id": "exciting-steering",
   "metadata": {},
   "outputs": [],
   "source": [
    "# #### plots with many q \n",
    "# plt.figure(figsize=(20,15))\n",
    "# L=[0.01,0.06,0.11,0.22,0.30,0.40,0.45,0.499]\n",
    "# for i in range(1,9):\n",
    "#     Q=L[i-1]\n",
    "#     Approx_solution1=[]\n",
    "#     Best_bound1=[]\n",
    "#     alpha=np.linspace(2**(-20),0.5-2**(-5),50)\n",
    "#     for ALPHA in alpha:\n",
    "#         GAMMA = 1 - (1-2*ALPHA)**2\n",
    "#     #     print('gamma = %lf' % GAMMA)\n",
    "#         H_gamma = estimate_h_gamma(Q, GAMMA, 1e-8)\n",
    "#     #     print('H_gamma = %lf' % H_gamma)\n",
    "#         approx_solution = m(ALPHA, H_gamma)\n",
    "# #         MGL.append(h((1-ALPHA)*Q + ALPHA*(1-Q)))\n",
    "#         Approx_solution1.append(approx_solution)\n",
    "#         gamma=gamma_max(ALPHA,Q)\n",
    "#         eta = get_eta_more_capable(ALPHA, gamma)\n",
    "#         H_gamma = estimate_h_gamma(Q, gamma, 1e-8)\n",
    "#         best_bound=(1-gamma)*H_gamma + h(ALPHA) - eta\n",
    "#         Best_bound1.append(best_bound) \n",
    "#     plt.subplot(2,4,i)\n",
    "#     plt.plot(alpha,Approx_solution1,\"--\", label=\"approx_solution Q=\"+str(Q))\n",
    "#     plt.plot(alpha,Best_bound1,label=\"best_boumd Q=\"+str(Q))\n",
    "#     plt.legend();"
   ]
  },
  {
   "cell_type": "code",
   "execution_count": 17,
   "id": "extra-roberts",
   "metadata": {},
   "outputs": [],
   "source": [
    "# # plots with many alpha\n",
    "# plt.figure(figsize=(25,15))\n",
    "# L=[0.01,0.06,0.11,0.22,0.30,0.40,0.45,0.46]\n",
    "# for i in range(1,9):\n",
    "#     ALPHA=L[i-1]\n",
    "#     Approx_solution2=[]\n",
    "#     Best_bound2=[]\n",
    "#     Qlist=np.linspace(2**(-20),0.5,50)\n",
    "#     for Q in Qlist:\n",
    "#         GAMMA = 1 - (1-2*ALPHA)**2\n",
    "#     #     print('gamma = %lf' % GAMMA)\n",
    "#         H_gamma = estimate_h_gamma(Q, GAMMA, 1e-10)\n",
    "#     #     print('H_gamma = %lf' % H_gamma)\n",
    "#         approx_solution = m(ALPHA, H_gamma)\n",
    "#         Approx_solution2.append(approx_solution)\n",
    "#         GAMMA=gamma_max(ALPHA,Q)\n",
    "#         H_gamma = estimate_h_gamma(Q, GAMMA, 1e-10)\n",
    "#         eta = get_eta_more_capable(ALPHA, GAMMA)\n",
    "#         best_bound =(1-GAMMA)*H_gamma + h(ALPHA) - eta\n",
    "#         Best_bound2.append(best_bound)\n",
    "#     plt.subplot(2,4,i)\n",
    "#     plt.plot(Qlist,Approx_solution2,\"--\",label=\"approx_solution $a\\alpha$=\"+str(ALPHA))\n",
    "#     plt.plot(Qlist,Best_bound2, label=\"best_boumd $a\\alpha$=\"+str(ALPHA))\n",
    "#     plt.legend();"
   ]
  },
  {
   "cell_type": "code",
   "execution_count": 18,
   "id": "transsexual-supplement",
   "metadata": {},
   "outputs": [],
   "source": [
    "# #### best gamma as a funtion of q for alpha=0.11\n",
    "# ALPHA=0.11\n",
    "# Best_gamma2=[]\n",
    "# T=[]\n",
    "# Qlist=np.linspace(2**(-30),0.5-2**(-5),300)\n",
    "# for Q in Qlist:\n",
    "#     best_gamma=gamma_max(ALPHA,Q)\n",
    "#     T.append(4*ALPHA*(1-ALPHA))\n",
    "#     Best_gamma2.append(best_gamma)\n",
    "# plt.figure(figsize=(14,8))\n",
    "# plt.plot(Qlist,T, label=\"gamma from Ordentlich for alpha=\"+str(ALPHA))\n",
    "# plt.plot(Qlist,Best_gamma2, label=\"Best gamma for alpha=\"+str(ALPHA))\n",
    "# plt.xlabel(\"$q$\")\n",
    "# plt.legend();"
   ]
  },
  {
   "cell_type": "code",
   "execution_count": 19,
   "id": "joined-springer",
   "metadata": {},
   "outputs": [],
   "source": [
    "# #### best gamma as a funtion of alpha for q=0.11\n",
    "# plt.figure(figsize=(15,8))\n",
    "# Q=0.11\n",
    "# alpha=np.linspace(0,0.5-2**(-5),300)\n",
    "# Best_gamma1=[]\n",
    "# for ALPHA in alpha:\n",
    "#     best_gamma=gamma_max(ALPHA,Q)        \n",
    "#     Best_gamma1.append(best_gamma)  \n",
    "# plt.plot(alpha,4*alpha*(1-alpha), label=r\"$\\gamma=$\"+r\"4$\\alpha(1-\\alpha)$ from Ordentlich for Q=0.11\",linewidth=2)\n",
    "# plt.plot(alpha,Best_gamma1, label=r\"$\\gamma$=argmax of RHS of Theorem 1.4  for Q=0.11\",linewidth=2)\n",
    "# plt.xlabel(r\"$\\alpha$\")\n",
    "# plt.grid()\n",
    "# plt.legend();"
   ]
  },
  {
   "cell_type": "code",
   "execution_count": 20,
   "id": "periodic-casino",
   "metadata": {},
   "outputs": [],
   "source": [
    "# ## with lengend\n",
    "# plt.figure(figsize=(15,5))\n",
    "# plt.subplot(1,2,1)\n",
    "# plt.plot(Qlist,Best_gamma2, label=\"Theorem 1.4\",linewidth=2)\n",
    "# plt.plot(Qlist,T,label=\"[Ord]\",linewidth=2)\n",
    "# plt.xlabel(r\"$q$\")\n",
    "# plt.ylabel(r\"$\\gamma$\")\n",
    "# plt.grid()\n",
    "# plt.legend();\n",
    "# # plt.subplot(1,2,2)\n",
    "# # plt.plot(alpha,Best_gamma1, label=\"Theorem 1.4\",linewidth=2)\n",
    "# # plt.plot(alpha,4*alpha*(1-alpha), label=\"[Ord]\",linewidth=2)\n",
    "# # plt.xlabel(r\"$\\alpha$\")\n",
    "# # plt.ylabel(r\"$\\gamma$\")\n",
    "# # plt.grid()\n",
    "# # plt.legend();"
   ]
  },
  {
   "cell_type": "markdown",
   "id": "accessory-diabetes",
   "metadata": {},
   "source": [
    "Encoding: $y_0, y_1, \\ldots, y_{n-2}, x_{n-1} \\to x_{n-1} + 2 y_{n-2} + \\ldots + 2^{n-1} y_{0}$."
   ]
  },
  {
   "cell_type": "code",
   "execution_count": 23,
   "id": "dominant-stage",
   "metadata": {},
   "outputs": [],
   "source": [
    "# Returns Y_table[k] = Pr[ y_0 ... y_{N-2}, x_{N-1} ] \n",
    "def compute_Y_table(q, alpha, N):\n",
    "    res = np.zeros(2**N)\n",
    "    res[0] = res[1] = 0.5\n",
    "    for n in range(2, N+1):\n",
    "        for kk in range(2**(n-1)-2, -1, -2):\n",
    "            L = res[kk], res[kk+1]\n",
    "            res[2*kk] = res[2*kk+1] = res[2*kk+2] = res[2*kk+3] = 0\n",
    "            for k, p in zip( (kk, kk+1), L ):\n",
    "                b = k%2\n",
    "                res[2*k+b] += p*(1-alpha)*(1-q)\n",
    "                res[2*k+(b^1)] += p*(1-alpha)*q\n",
    "                res[2*(k^1)+b] += p*alpha*(1-q)\n",
    "                res[2*(k^1)+(b^1)] += p*alpha*q\n",
    "    return res"
   ]
  },
  {
   "cell_type": "code",
   "execution_count": 24,
   "id": "moderate-gnome",
   "metadata": {},
   "outputs": [],
   "source": [
    "def compute_Y_table_step(q, alpha, N, old_Y):\n",
    "    res = np.zeros(2**N)\n",
    "    for k in range(2**(N-1)):\n",
    "        p = old_Y[k]\n",
    "        b = k%2\n",
    "        res[2*k+b] += p*(1-alpha)*(1-q)\n",
    "        res[2*k+(b^1)] += p*(1-alpha)*q\n",
    "        res[2*(k^1)+b] += p*alpha*(1-q)\n",
    "        res[2*(k^1)+(b^1)] += p*alpha*q\n",
    "    return res"
   ]
  },
  {
   "cell_type": "code",
   "execution_count": 25,
   "id": "graphic-labor",
   "metadata": {},
   "outputs": [],
   "source": [
    "def compute_upper_bound(q, alpha, maxN):\n",
    "    oldY = [0.5, 0.5]\n",
    "    for n in range(2, maxN+1):\n",
    "        res = 0\n",
    "        newY = compute_Y_table_step(q, alpha, n, oldY)\n",
    "        for k in range(0, 2**n, 2):\n",
    "            py = newY[k]+newY[k+1]\n",
    "            p0 = newY[k]*(1-alpha) + newY[k+1]*alpha\n",
    "            p1 = newY[k]*alpha + newY[k+1]*(1-alpha)\n",
    "            res += py * h(p0 / (p0+p1))\n",
    "        oldY = newY\n",
    "        if n == maxN: return res\n",
    "        #print('n = %d res = %lf' % (n, res))"
   ]
  },
  {
   "cell_type": "code",
   "execution_count": 26,
   "id": "wireless-above",
   "metadata": {},
   "outputs": [],
   "source": [
    "def compute_lower_bound(q, alpha, maxN):\n",
    "    oldY = [0.5*(1-q), 0.5*q, 0.5*q, 0.5*(1-q)]\n",
    "    for n in range(3, maxN+1):\n",
    "        res = 0\n",
    "        newY = compute_Y_table_step(q, alpha, n, oldY)\n",
    "        for k in range(0, 2**n, 2):\n",
    "            py = newY[k]+newY[k+1]\n",
    "            p0 = newY[k]*(1-alpha) + newY[k+1]*alpha\n",
    "            p1 = newY[k]*alpha + newY[k+1]*(1-alpha)\n",
    "            res += py * h(p0 / (p0+p1))\n",
    "        oldY = newY\n",
    "        if n == maxN: return res\n",
    "#        print('n = %d res = %lf' % (n, res))"
   ]
  },
  {
   "cell_type": "code",
   "execution_count": 27,
   "id": "charitable-series",
   "metadata": {},
   "outputs": [
    {
     "data": {
      "text/plain": [
       "(0.9999998210782622,\n",
       " 0.9999995491607162,\n",
       " 0.9999998062900795,\n",
       " 0.9999998062251068)"
      ]
     },
     "execution_count": 27,
     "metadata": {},
     "output_type": "execute_result"
    }
   ],
   "source": [
    "compute_upper_bound(0.11, 0.49, 15),compute_lower_bound(0.11, 0.49, 15), New_Lower_bound(0.49,0.11), Ord_Lower_bound(0.49,0.11)"
   ]
  },
  {
   "cell_type": "code",
   "execution_count": 28,
   "id": "activated-folder",
   "metadata": {},
   "outputs": [
    {
     "name": "stdout",
     "output_type": "stream",
     "text": [
      "alpha=0.000000\n",
      "alpha=0.010204\n",
      "alpha=0.020408\n",
      "alpha=0.030612\n",
      "alpha=0.040816\n",
      "alpha=0.051020\n",
      "alpha=0.061224\n",
      "alpha=0.071429\n",
      "alpha=0.081633\n",
      "alpha=0.091837\n",
      "alpha=0.102041\n",
      "alpha=0.112245\n",
      "alpha=0.122449\n",
      "alpha=0.132653\n",
      "alpha=0.142857\n",
      "alpha=0.153061\n",
      "alpha=0.163265\n",
      "alpha=0.173469\n",
      "alpha=0.183673\n",
      "alpha=0.193878\n",
      "alpha=0.204082\n",
      "alpha=0.214286\n",
      "alpha=0.224490\n",
      "alpha=0.234694\n",
      "alpha=0.244898\n",
      "alpha=0.255102\n",
      "alpha=0.265306\n",
      "alpha=0.275510\n",
      "alpha=0.285714\n",
      "alpha=0.295918\n",
      "alpha=0.306122\n",
      "alpha=0.316327\n",
      "alpha=0.326531\n",
      "alpha=0.336735\n",
      "alpha=0.346939\n",
      "alpha=0.357143\n",
      "alpha=0.367347\n",
      "alpha=0.377551\n",
      "alpha=0.387755\n",
      "alpha=0.397959\n",
      "alpha=0.408163\n",
      "alpha=0.418367\n",
      "alpha=0.428571\n",
      "alpha=0.438776\n",
      "alpha=0.448980\n",
      "alpha=0.459184\n",
      "alpha=0.469388\n",
      "alpha=0.479592\n",
      "alpha=0.489796\n",
      "alpha=0.500000\n"
     ]
    }
   ],
   "source": [
    "Q = 0.11\n",
    "ALPHA = np.linspace(0, 0.5, 50)\n",
    "UP, LOW = [], []\n",
    "for alpha in ALPHA:\n",
    "    print('alpha=%lf'%alpha)\n",
    "    UP.append(compute_upper_bound(Q, alpha, 20))\n",
    "    LOW.append(compute_lower_bound(Q, alpha, 20))"
   ]
  },
  {
   "cell_type": "code",
   "execution_count": 35,
   "id": "corresponding-homework",
   "metadata": {},
   "outputs": [
    {
     "data": {
      "text/plain": [
       "[<matplotlib.lines.Line2D at 0x7f96b40bd3d0>]"
      ]
     },
     "execution_count": 35,
     "metadata": {},
     "output_type": "execute_result"
    },
    {
     "data": {
      "image/png": "[encoded data removed]",
      "text/plain": [
       "<Figure size 432x288 with 1 Axes>"
      ]
     },
     "metadata": {
      "needs_background": "light"
     },
     "output_type": "display_data"
    }
   ],
   "source": [
    "ALPHA = np.linspace(0, 0.5, 50)\n",
    "plt.plot(ALPHA, UP)\n",
    "plt.plot(ALPHA, LOW)"
   ]
  },
  {
   "cell_type": "code",
   "execution_count": 30,
   "id": "hired-browse",
   "metadata": {},
   "outputs": [
    {
     "name": "stdout",
     "output_type": "stream",
     "text": [
      "q=0.000000\n",
      "q=0.010204\n",
      "q=0.020408\n",
      "q=0.030612\n",
      "q=0.040816\n",
      "q=0.051020\n",
      "q=0.061224\n",
      "q=0.071429\n",
      "q=0.081633\n",
      "q=0.091837\n",
      "q=0.102041\n",
      "q=0.112245\n",
      "q=0.122449\n",
      "q=0.132653\n",
      "q=0.142857\n",
      "q=0.153061\n",
      "q=0.163265\n",
      "q=0.173469\n",
      "q=0.183673\n",
      "q=0.193878\n",
      "q=0.204082\n",
      "q=0.214286\n",
      "q=0.224490\n",
      "q=0.234694\n",
      "q=0.244898\n",
      "q=0.255102\n",
      "q=0.265306\n",
      "q=0.275510\n",
      "q=0.285714\n",
      "q=0.295918\n",
      "q=0.306122\n",
      "q=0.316327\n",
      "q=0.326531\n",
      "q=0.336735\n",
      "q=0.346939\n",
      "q=0.357143\n",
      "q=0.367347\n",
      "q=0.377551\n",
      "q=0.387755\n",
      "q=0.397959\n",
      "q=0.408163\n",
      "q=0.418367\n",
      "q=0.428571\n",
      "q=0.438776\n",
      "q=0.448980\n",
      "q=0.459184\n",
      "q=0.469388\n",
      "q=0.479592\n",
      "q=0.489796\n",
      "q=0.500000\n"
     ]
    }
   ],
   "source": [
    "ALPHA = 0.11\n",
    "Q = np.linspace(0, 0.5, 50)\n",
    "UPq, LOWq = [], []\n",
    "for q in Q:\n",
    "    print('q=%lf'%q)\n",
    "    UPq.append(compute_upper_bound(q, ALPHA, 20))\n",
    "    LOWq.append(compute_lower_bound(q, ALPHA, 20))"
   ]
  },
  {
   "cell_type": "code",
   "execution_count": 33,
   "id": "amazing-parade",
   "metadata": {},
   "outputs": [
    {
     "data": {
      "text/plain": [
       "[<matplotlib.lines.Line2D at 0x7f96b3de7310>]"
      ]
     },
     "execution_count": 33,
     "metadata": {},
     "output_type": "execute_result"
    },
    {
     "data": {
      "image/png": "[encoded data removed]",
      "text/plain": [
       "<Figure size 432x288 with 1 Axes>"
      ]
     },
     "metadata": {
      "needs_background": "light"
     },
     "output_type": "display_data"
    }
   ],
   "source": [
    "plt.plot(Q, UPq)\n",
    "plt.plot(Q, LOWq)"
   ]
  },
  {
   "cell_type": "code",
   "execution_count": null,
   "id": "elegant-dining",
   "metadata": {},
   "outputs": [],
   "source": []
  },
  {
   "cell_type": "code",
   "execution_count": 38,
   "id": "impossible-suggestion",
   "metadata": {},
   "outputs": [
    {
     "data": {
      "image/png": "[encoded data removed]",
      "text/plain": [
       "<Figure size 1080x360 with 1 Axes>"
      ]
     },
     "metadata": {
      "needs_background": "light"
     },
     "output_type": "display_data"
    }
   ],
   "source": [
    "## with lengend\n",
    "ALPHA = np.linspace(2**(-20), 0.5-2**(-5), 50)\n",
    "Q = np.linspace(2**(-20), 0.5-2**(-5), 50)\n",
    "alpha=np.linspace(2**(-20),0.5-2**(-5),50)\n",
    "Qlist=np.linspace(2**(-20),0.5-2**(-5),50)\n",
    "\n",
    "plt.figure(figsize=(15,5))\n",
    "plt.subplot(1,2,1)\n",
    "plt.plot(ALPHA, LOW,\"y\",label=\"Approximated value of $\\overline{H}(Y)$\",linewidth=2)\n",
    "plt.plot(alpha,Best_bound1, label=\"Theorem 1.4\",linewidth=2)\n",
    "plt.plot(alpha,Approx_solution1,\"--\",label=\"[Ord]\",linewidth=2)\n",
    "plt.xlabel(r\"$\\alpha$\")\n",
    "plt.ylabel(r\"$\\overline{H}(Y)$\")\n",
    "plt.grid()\n",
    "plt.legend();\n",
    "# plt.savefig(\"NLower_bound_with_q.pdf\", format=\"pdf\", bbox_inches=\"tight\")\n",
    "\n",
    "# plt.subplot(1,2,2)\n",
    "# plt.plot(Q, LOWq,\"y\",label=\"Approximated value of $\\overline{H}(Y)$\",linewidth=2)\n",
    "# plt.plot(Qlist,Best_bound2, label=\"Theorem 1.4\",linewidth=2)\n",
    "# plt.plot(Qlist,Approx_solution2,\"--\", label=\"[Ord]\",linewidth=2)\n",
    "# plt.xlabel(r\"$q$\")\n",
    "# plt.ylabel(r\"$\\overline{H}(Y)$\")\n",
    "# plt.grid()\n",
    "# plt.legend();"
   ]
  },
  {
   "cell_type": "code",
   "execution_count": null,
   "id": "curious-laptop",
   "metadata": {},
   "outputs": [],
   "source": [
    "g = gamma_max(0.11, 0.11)\n",
    "print(Lower_bound(0.11, 0.11, g))"
   ]
  },
  {
   "cell_type": "code",
   "execution_count": 55,
   "id": "36c4dc09-e57f-4f74-b20d-52e36f8538bb",
   "metadata": {},
   "outputs": [
    {
     "name": "stdout",
     "output_type": "stream",
     "text": [
      "0.7710995255219788\n"
     ]
    }
   ],
   "source": [
    "alpha = 0.11\n",
    "g = 1 - (1-2*alpha)**2\n",
    "H_gamma = estimate_h_gamma(0.11, g, 1e-10)\n",
    "print(m(alpha, H_gamma))"
   ]
  },
  {
   "cell_type": "code",
   "execution_count": null,
   "id": "c89ad2c6-820b-478c-8347-fc9622dcff87",
   "metadata": {},
   "outputs": [],
   "source": []
  }
 ],
 "metadata": {
  "kernelspec": {
   "display_name": "Python 3",
   "language": "python",
   "name": "python3"
  },
  "language_info": {
   "codemirror_mode": {
    "name": "ipython",
    "version": 3
   },
   "file_extension": ".py",
   "mimetype": "text/x-python",
   "name": "python",
   "nbconvert_exporter": "python",
   "pygments_lexer": "ipython3",
   "version": "3.9.2"
  }
 },
 "nbformat": 4,
 "nbformat_minor": 5
}
